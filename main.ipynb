{
 "cells": [
  {
   "cell_type": "code",
   "execution_count": 125,
   "metadata": {},
   "outputs": [
    {
     "data": {
      "text/plain": [
       "'pt-br.UTF-8'"
      ]
     },
     "execution_count": 125,
     "metadata": {},
     "output_type": "execute_result"
    }
   ],
   "source": [
    "#Importando bibliotecas \n",
    "import pandas as pd\n",
    "import matplotlib.pyplot as plt\n",
    "import locale\n",
    "locale.setlocale( locale.LC_ALL, 'pt-br.UTF-8' )\n"
   ]
  },
  {
   "cell_type": "code",
   "execution_count": 70,
   "metadata": {},
   "outputs": [
    {
     "data": {
      "text/html": [
       "<div>\n",
       "<style scoped>\n",
       "    .dataframe tbody tr th:only-of-type {\n",
       "        vertical-align: middle;\n",
       "    }\n",
       "\n",
       "    .dataframe tbody tr th {\n",
       "        vertical-align: top;\n",
       "    }\n",
       "\n",
       "    .dataframe thead th {\n",
       "        text-align: right;\n",
       "    }\n",
       "</style>\n",
       "<table border=\"1\" class=\"dataframe\">\n",
       "  <thead>\n",
       "    <tr style=\"text-align: right;\">\n",
       "      <th></th>\n",
       "      <th>Unnamed: 0</th>\n",
       "      <th>Data_da_Compra</th>\n",
       "      <th>Mes</th>\n",
       "      <th>Faturamento</th>\n",
       "    </tr>\n",
       "  </thead>\n",
       "  <tbody>\n",
       "    <tr>\n",
       "      <th>0</th>\n",
       "      <td>0</td>\n",
       "      <td>2023-01-01</td>\n",
       "      <td>2023-01</td>\n",
       "      <td>1893.892583</td>\n",
       "    </tr>\n",
       "    <tr>\n",
       "      <th>1</th>\n",
       "      <td>1</td>\n",
       "      <td>2023-01-02</td>\n",
       "      <td>2023-01</td>\n",
       "      <td>3577.194422</td>\n",
       "    </tr>\n",
       "    <tr>\n",
       "      <th>2</th>\n",
       "      <td>2</td>\n",
       "      <td>2023-01-03</td>\n",
       "      <td>2023-01</td>\n",
       "      <td>3455.024639</td>\n",
       "    </tr>\n",
       "    <tr>\n",
       "      <th>3</th>\n",
       "      <td>3</td>\n",
       "      <td>2023-01-04</td>\n",
       "      <td>2023-01</td>\n",
       "      <td>5246.888271</td>\n",
       "    </tr>\n",
       "    <tr>\n",
       "      <th>4</th>\n",
       "      <td>4</td>\n",
       "      <td>2023-01-05</td>\n",
       "      <td>2023-01</td>\n",
       "      <td>6242.445699</td>\n",
       "    </tr>\n",
       "  </tbody>\n",
       "</table>\n",
       "</div>"
      ],
      "text/plain": [
       "   Unnamed: 0 Data_da_Compra      Mes  Faturamento\n",
       "0           0     2023-01-01  2023-01  1893.892583\n",
       "1           1     2023-01-02  2023-01  3577.194422\n",
       "2           2     2023-01-03  2023-01  3455.024639\n",
       "3           3     2023-01-04  2023-01  5246.888271\n",
       "4           4     2023-01-05  2023-01  6242.445699"
      ]
     },
     "execution_count": 70,
     "metadata": {},
     "output_type": "execute_result"
    }
   ],
   "source": [
    "#Lendo o arquivo csv\n",
    "df = pd.read_csv(\"Data.csv\")\n",
    "\n",
    "#Head\n",
    "df.head()"
   ]
  },
  {
   "cell_type": "code",
   "execution_count": 71,
   "metadata": {},
   "outputs": [
    {
     "data": {
      "text/html": [
       "<div>\n",
       "<style scoped>\n",
       "    .dataframe tbody tr th:only-of-type {\n",
       "        vertical-align: middle;\n",
       "    }\n",
       "\n",
       "    .dataframe tbody tr th {\n",
       "        vertical-align: top;\n",
       "    }\n",
       "\n",
       "    .dataframe thead th {\n",
       "        text-align: right;\n",
       "    }\n",
       "</style>\n",
       "<table border=\"1\" class=\"dataframe\">\n",
       "  <thead>\n",
       "    <tr style=\"text-align: right;\">\n",
       "      <th></th>\n",
       "      <th>Unnamed: 0</th>\n",
       "      <th>Data_da_Compra</th>\n",
       "      <th>Mes</th>\n",
       "      <th>Faturamento</th>\n",
       "    </tr>\n",
       "  </thead>\n",
       "  <tbody>\n",
       "    <tr>\n",
       "      <th>0</th>\n",
       "      <td>0</td>\n",
       "      <td>2023-01-01</td>\n",
       "      <td>2023-01</td>\n",
       "      <td>1893.89</td>\n",
       "    </tr>\n",
       "    <tr>\n",
       "      <th>1</th>\n",
       "      <td>1</td>\n",
       "      <td>2023-01-02</td>\n",
       "      <td>2023-01</td>\n",
       "      <td>3577.19</td>\n",
       "    </tr>\n",
       "    <tr>\n",
       "      <th>2</th>\n",
       "      <td>2</td>\n",
       "      <td>2023-01-03</td>\n",
       "      <td>2023-01</td>\n",
       "      <td>3455.02</td>\n",
       "    </tr>\n",
       "    <tr>\n",
       "      <th>3</th>\n",
       "      <td>3</td>\n",
       "      <td>2023-01-04</td>\n",
       "      <td>2023-01</td>\n",
       "      <td>5246.89</td>\n",
       "    </tr>\n",
       "    <tr>\n",
       "      <th>4</th>\n",
       "      <td>4</td>\n",
       "      <td>2023-01-05</td>\n",
       "      <td>2023-01</td>\n",
       "      <td>6242.45</td>\n",
       "    </tr>\n",
       "  </tbody>\n",
       "</table>\n",
       "</div>"
      ],
      "text/plain": [
       "   Unnamed: 0 Data_da_Compra      Mes  Faturamento\n",
       "0           0     2023-01-01  2023-01      1893.89\n",
       "1           1     2023-01-02  2023-01      3577.19\n",
       "2           2     2023-01-03  2023-01      3455.02\n",
       "3           3     2023-01-04  2023-01      5246.89\n",
       "4           4     2023-01-05  2023-01      6242.45"
      ]
     },
     "execution_count": 71,
     "metadata": {},
     "output_type": "execute_result"
    }
   ],
   "source": [
    "#Arrendondando o valor de Faturamento \n",
    "df['Faturamento'] = df['Faturamento'].round(2)\n",
    "\n",
    "#Vendo os dados\n",
    "df.head()"
   ]
  },
  {
   "cell_type": "code",
   "execution_count": 72,
   "metadata": {},
   "outputs": [],
   "source": [
    "#Convertendo a data para datetime\n",
    "df['Data_da_Compra'] = pd.to_datetime(df['Data_da_Compra'])"
   ]
  },
  {
   "cell_type": "code",
   "execution_count": 73,
   "metadata": {},
   "outputs": [],
   "source": [
    "#Criando coluna de Dia\n",
    "df['Month'] = df['Data_da_Compra'].dt.month"
   ]
  },
  {
   "cell_type": "code",
   "execution_count": 110,
   "metadata": {},
   "outputs": [
    {
     "data": {
      "text/html": [
       "<div>\n",
       "<style scoped>\n",
       "    .dataframe tbody tr th:only-of-type {\n",
       "        vertical-align: middle;\n",
       "    }\n",
       "\n",
       "    .dataframe tbody tr th {\n",
       "        vertical-align: top;\n",
       "    }\n",
       "\n",
       "    .dataframe thead th {\n",
       "        text-align: right;\n",
       "    }\n",
       "</style>\n",
       "<table border=\"1\" class=\"dataframe\">\n",
       "  <thead>\n",
       "    <tr style=\"text-align: right;\">\n",
       "      <th></th>\n",
       "      <th>Month</th>\n",
       "      <th>Faturamento</th>\n",
       "    </tr>\n",
       "  </thead>\n",
       "  <tbody>\n",
       "    <tr>\n",
       "      <th>0</th>\n",
       "      <td>1</td>\n",
       "      <td>743632.72</td>\n",
       "    </tr>\n",
       "    <tr>\n",
       "      <th>1</th>\n",
       "      <td>2</td>\n",
       "      <td>662863.42</td>\n",
       "    </tr>\n",
       "    <tr>\n",
       "      <th>2</th>\n",
       "      <td>3</td>\n",
       "      <td>722590.06</td>\n",
       "    </tr>\n",
       "    <tr>\n",
       "      <th>3</th>\n",
       "      <td>4</td>\n",
       "      <td>74343.00</td>\n",
       "    </tr>\n",
       "  </tbody>\n",
       "</table>\n",
       "</div>"
      ],
      "text/plain": [
       "   Month  Faturamento\n",
       "0      1    743632.72\n",
       "1      2    662863.42\n",
       "2      3    722590.06\n",
       "3      4     74343.00"
      ]
     },
     "execution_count": 110,
     "metadata": {},
     "output_type": "execute_result"
    }
   ],
   "source": [
    "#Agrupando por mês\n",
    "GB_Month = df.groupby(['Month']).agg({'Faturamento':'sum'}).reset_index()\n",
    "\n",
    "#Vendo os dados\n",
    "GB_Month.head()"
   ]
  },
  {
   "cell_type": "code",
   "execution_count": 111,
   "metadata": {},
   "outputs": [
    {
     "data": {
      "image/png": "[encoded data removed]",
      "text/plain": [
       "<Figure size 1500x500 with 1 Axes>"
      ]
     },
     "metadata": {},
     "output_type": "display_data"
    }
   ],
   "source": [
    "#Fazendo gráfico de linha\n",
    "fig = plt.figure(figsize=(15, 5))\n",
    "\n",
    "plt.bar(GB_Month['Month'], GB_Month['Faturamento'], color='b')\n",
    "\n",
    "plt.show()"
   ]
  },
  {
   "cell_type": "code",
   "execution_count": 127,
   "metadata": {},
   "outputs": [
    {
     "data": {
      "image/png": "[encoded data removed]",
      "text/plain": [
       "<Figure size 1440x672 with 1 Axes>"
      ]
     },
     "metadata": {},
     "output_type": "display_data"
    }
   ],
   "source": [
    "fig, ax = plt.subplots(figsize=(15, 7), dpi=96)\n",
    "\n",
    "#Criando o gráfico de barras em si\n",
    "ax.bar(GB_Month['Month'], GB_Month['Faturamento'], color='steelblue')\n",
    "\n",
    "#Ajustando margins\n",
    "plt.subplots_adjust(left=None, bottom=0.2, right=None, top=0.85, wspace=None, hspace=None)\n",
    "\n",
    "####### X & Y Axis #######\n",
    "#Reformando o x-axis com labes \n",
    "ax.set_xlabel(\"\", fontsize=12, labelpad=10)\n",
    "ax.xaxis.set_label_position(\"bottom\")\n",
    "ax.set_xticks(GB_Month['Month'])\n",
    "\n",
    "#Colocando e reformando o y-axis \n",
    "ax.set_ylabel(\"Faturamento\", fontsize=12, labelpad=10)\n",
    "ax.yaxis.set_label_position(\"left\")\n",
    "\n",
    "#Retirando as bordas do gráfico \n",
    "ax.spines[['top', 'right', 'bottom']].set_visible(False)\n",
    "\n",
    "#Aumentando a grossura da borda da esquerda \n",
    "ax.spines['left'].set_linewidth(1.1)\n",
    "\n",
    "\n",
    "#### TITULO E DETALHES ####\n",
    "#Adicionando título \n",
    "ax.text(x=0.06, y=.93, s='Faturamento por dia', transform=fig.transFigure, ha='left', fontsize=14, weight='bold', alpha=.8)\n",
    "#Adicionando subtítulo \n",
    "ax.text(x=0.06, y=.90, s='Registro de Faturamento da XPTO por dia de projeto', transform=fig.transFigure, ha='left', fontsize=12, alpha=.8)\n",
    "\n",
    "#Adicionando o retangulo antes do título e subtítulo\n",
    "ax.add_patch(plt.Rectangle((0.05,.95), 0.004, -0.06, facecolor='#672ad1', transform=fig.transFigure, clip_on=False, linewidth = 0))\n",
    "\n",
    "#Adicionando rótulo de dados \n",
    "for i in range(len(GB_Month['Month'])):\n",
    "    value = locale.currency(GB_Month['Faturamento'][i], grouping=True)\n",
    "    ax.text(x=GB_Month['Month'][i], y=GB_Month['Faturamento'][i], s=value, ha='center', va='bottom', fontsize=10, weight='bold', alpha=.8)\n",
    "\n"
   ]
  },
  {
   "cell_type": "code",
   "execution_count": null,
   "metadata": {},
   "outputs": [],
   "source": []
  }
 ],
 "metadata": {
  "kernelspec": {
   "display_name": ".venv",
   "language": "python",
   "name": "python3"
  },
  "language_info": {
   "codemirror_mode": {
    "name": "ipython",
    "version": 3
   },
   "file_extension": ".py",
   "mimetype": "text/x-python",
   "name": "python",
   "nbconvert_exporter": "python",
   "pygments_lexer": "ipython3",
   "version": "3.12.1"
  }
 },
 "nbformat": 4,
 "nbformat_minor": 2
}
